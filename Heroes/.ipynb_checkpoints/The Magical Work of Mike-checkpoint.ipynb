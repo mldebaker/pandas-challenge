{
 "cells": [
  {
   "cell_type": "code",
   "execution_count": 19,
   "metadata": {},
   "outputs": [
    {
     "data": {
      "text/html": [
       "<div>\n",
       "<style scoped>\n",
       "    .dataframe tbody tr th:only-of-type {\n",
       "        vertical-align: middle;\n",
       "    }\n",
       "\n",
       "    .dataframe tbody tr th {\n",
       "        vertical-align: top;\n",
       "    }\n",
       "\n",
       "    .dataframe thead th {\n",
       "        text-align: right;\n",
       "    }\n",
       "</style>\n",
       "<table border=\"1\" class=\"dataframe\">\n",
       "  <thead>\n",
       "    <tr style=\"text-align: right;\">\n",
       "      <th></th>\n",
       "      <th>Purchase ID</th>\n",
       "      <th>SN</th>\n",
       "      <th>Age</th>\n",
       "      <th>Gender</th>\n",
       "      <th>Item ID</th>\n",
       "      <th>Item Name</th>\n",
       "      <th>Price</th>\n",
       "    </tr>\n",
       "  </thead>\n",
       "  <tbody>\n",
       "    <tr>\n",
       "      <th>0</th>\n",
       "      <td>0</td>\n",
       "      <td>Lisim78</td>\n",
       "      <td>20</td>\n",
       "      <td>Male</td>\n",
       "      <td>108</td>\n",
       "      <td>Extraction, Quickblade Of Trembling Hands</td>\n",
       "      <td>3.53</td>\n",
       "    </tr>\n",
       "    <tr>\n",
       "      <th>1</th>\n",
       "      <td>1</td>\n",
       "      <td>Lisovynya38</td>\n",
       "      <td>40</td>\n",
       "      <td>Male</td>\n",
       "      <td>143</td>\n",
       "      <td>Frenzied Scimitar</td>\n",
       "      <td>1.56</td>\n",
       "    </tr>\n",
       "    <tr>\n",
       "      <th>2</th>\n",
       "      <td>2</td>\n",
       "      <td>Ithergue48</td>\n",
       "      <td>24</td>\n",
       "      <td>Male</td>\n",
       "      <td>92</td>\n",
       "      <td>Final Critic</td>\n",
       "      <td>4.88</td>\n",
       "    </tr>\n",
       "    <tr>\n",
       "      <th>3</th>\n",
       "      <td>3</td>\n",
       "      <td>Chamassasya86</td>\n",
       "      <td>24</td>\n",
       "      <td>Male</td>\n",
       "      <td>100</td>\n",
       "      <td>Blindscythe</td>\n",
       "      <td>3.27</td>\n",
       "    </tr>\n",
       "    <tr>\n",
       "      <th>4</th>\n",
       "      <td>4</td>\n",
       "      <td>Iskosia90</td>\n",
       "      <td>23</td>\n",
       "      <td>Male</td>\n",
       "      <td>131</td>\n",
       "      <td>Fury</td>\n",
       "      <td>1.44</td>\n",
       "    </tr>\n",
       "  </tbody>\n",
       "</table>\n",
       "</div>"
      ],
      "text/plain": [
       "   Purchase ID             SN  Age Gender  Item ID  \\\n",
       "0            0        Lisim78   20   Male      108   \n",
       "1            1    Lisovynya38   40   Male      143   \n",
       "2            2     Ithergue48   24   Male       92   \n",
       "3            3  Chamassasya86   24   Male      100   \n",
       "4            4      Iskosia90   23   Male      131   \n",
       "\n",
       "                                   Item Name  Price  \n",
       "0  Extraction, Quickblade Of Trembling Hands   3.53  \n",
       "1                          Frenzied Scimitar   1.56  \n",
       "2                               Final Critic   4.88  \n",
       "3                                Blindscythe   3.27  \n",
       "4                                       Fury   1.44  "
      ]
     },
     "execution_count": 19,
     "metadata": {},
     "output_type": "execute_result"
    }
   ],
   "source": [
    "# Dependencies and Setup\n",
    "import pandas as pd\n",
    "\n",
    "# File Load\n",
    "df = pd.read_csv(\"heroes.csv\")\n",
    "df.head()"
   ]
  },
  {
   "cell_type": "code",
   "execution_count": 12,
   "metadata": {},
   "outputs": [
    {
     "name": "stdout",
     "output_type": "stream",
     "text": [
      "Number of Unique Items:  Extraction, Quickblade Of Trembling HandsFrenzied ScimitarFinal CriticBlindscytheFuryDreamkissInterrogator, Blood Blade of the QueenAbyssal ShardSouleaterGhastly Adamantite ProtectorSinged Onyx WarscytheAbyssal ShardRenewed Skeletal KatanaBloodlord's FetishBone Crushing Silver SkewerDeadline, Voice Of SubtletySecond ChanceDevineNirvanaBlazefury, Protector of DelusionsDespair, Favor of Due DiligenceSun Strike, Jaws of Twisted VisionsWarped FetishSeverancePersuasionOathbreaker, Last Hope of the Breaking StormDemiseBlood-Forged Skeletal SpineStormbringer, Dark Blade of Ending MiseryShadow Strike, Glory of Ending HopeStrikerWolf, Promise of the MoonwalkerFaith's ScimitarBonecarvin Battle AxeAzurewrathVengeance CleaverHaunted Bronzed BludgeonRitual MaceRenewed Skeletal KatanaBlade of the GraveFrenzied ScimitarThorn, Satchel of Dark SoulsWinter's BiteRenewed Skeletal KatanaThorn, Conqueror of the CorruptedReaper's TollAvengerShadowsteelPeacekeeper, Wit of Dark MagicSuspensionAmnesiaSoul Infused CrystalWolfRelentless Iron SkewerHero CaneArcane GemExtraction, Quickblade Of Trembling HandsDreamsongDarkheartHailstorm Shadowsteel ScytheBonecarvin Battle AxeOathbreaker, Last Hope of the Breaking StormOathbreaker, Last Hope of the Breaking StormWhistling Mithril WarbladeFoul Titanium Battle AxeRetribution AxeRusty SkullPeacekeeper, Wit of Dark MagicRiddle, Tribute of Ended DreamsShadow Strike, Glory of Ending HopeFrenzied ScimitarChaos, Ender of the EndOathbreaker, Last Hope of the Breaking StormStorm-Weaver, Slayer of InceptionBlazefury, Protector of DelusionsVenom ClaymoreEmberling, Defender of DelusionsNetherbaneDawnSoul Infused CrystalBone Crushing Silver SkewerPrimitive BladeAzurewrathDawneRetribution AxeCurved AxeFate, Vengeance of Eternal JusticeSeveranceNirvanaLazarus, Terror of the EarthWolfLightning, Etcher of the KingBetrayal, Whisper of Grieving WidowsEmberling, Defender of DelusionsBlood-Forged Skeletal SpineExiled DoombladeFoul Titanium Battle AxeUndead CrusaderPersuasionFinal CriticDawnePrimitive BladeDownfall, Scalpel Of The EmperorThorn, Satchel of Dark SoulsVengeance CleaverSleepwalkerEternal CleaverExpiration, Warscythe Of Lost WorldsMalificent BagCurved AxeMercy, Katana of DismayOrbitThorn, Satchel of Dark SoulsStrikerDeathrazeSerenityMercy, Katana of DismayHeartstriker, Legacy of the LightGlimmer, Ender of the MoonDeluge, Edge of the WestWarped FetishCruciferPrimitive BladeDreamkissDeathrazePiece MakerBrutality Ivory WarmaceAvengerFreak's Bite, Favor of Holy MightYearning CrusherAgathaPiece MakerFiery Glass CrusaderSplinterVerdictWarped Iron ScimitarHailstorm Shadowsteel ScytheWolf, Promise of the MoonwalkerGhastly Adamantite ProtectorDarkheart, Butcher of the ChampionPurgatory, Gem of RegretWolfWoeful Adamantite ClaymoreVenom ClaymoreAmnesiaHopeless Ebon DualbladeFaith's ScimitarWarped FetishWarmonger, Gift of Suffering's EndDevineSplinterHailstorm Shadowsteel ScytheSuspensionExiled DoombladeLightning, Etcher of the KingDeadline, Voice Of SubtletyHeartstriker, Legacy of the LightExtraction, Quickblade Of Trembling HandsMisery's EndBetrayal, Whisper of Grieving WidowsBonecarvin Battle AxePhantomlightReaper's TollConqueror Adamantite MaceBlood-Forged Skeletal SpineDragon's GreatswordStormcallerSpada, Etcher of HatredMalificent BagTwilight's CarverBrutality Ivory WarmaceAvengerConqueror Adamantite MacePutrid FanBlood Infused GuardianSinged ScalpelSpada, Etcher of HatredWarped Diamond CrusaderDespair, Favor of Due DiligenceLightning, Etcher of the KingSinged Onyx WarscytheEndbringerFeral KatanaSoul Infused CrystalOrenmirDeathrazePiety, Guardian of RiddlesBrimstoneEmberling, Defender of DelusionsStormfury MaceFrenzy, Defender of the HarvestDeluge, Edge of the WestDeadline, Voice Of SubtletyPiece MakerRitual MaceSolitude's ReaverThorn, Conqueror of the CorruptedShadow Strike, Glory of Ending HopeMercenary SabrePeacekeeper, Wit of Dark MagicYearning MagebladeVerdictNirvanaPhantomlightSplinterTranquility, Razor of Black MagicGlimmer, Ender of the MoonFiery Glass CrusaderHailstorm Shadowsteel ScytheAbyssal ShardGhastly Adamantite ProtectorAgathaOathbreaker, Spellblade of TrialsVerdictAetherius, Boon of the BlessedSecond ChanceGhastly Adamantite ProtectorHero CaneHaunted Bronzed BludgeonDespair, Favor of Due DiligenceHopeless Ebon DualbladeWoeful Adamantite ClaymoreOathbreaker, Last Hope of the Breaking StormRighteous MightSpada, Etcher of HatredFeral KatanaEternal CleaverWarped FetishDreamsongWinter's BiteAvengerMercy, Katana of DismayYearning MagebladeVictor Iron SpikesSwan Song, Gouger Of TerrorThunderfury ScimitarSplitter, Foe Of SubtletyRestored BaubleThe DecapitatorPursuit, Cudgel of NecromancyNirvanaSleepwalkerBetrayal, Whisper of Grieving WidowsLifebenderShadow Strike, Glory of Ending HopeMalificent BagMercy, Katana of DismayNirvanaAetherius, Boon of the BlessedRestored BaubleDeluge, Edge of the WestCruciferFinal CriticFlux, Destroyer of Due DiligenceMourning BladeDemiseToothpickWoeful Adamantite ClaymoreTranquility, Razor of Black MagicWinter's BiteHope's EndPersuasionBlade of the GraveGlimmer, Ender of the MoonStormbringer, Dark Blade of Ending MiseryBlade of the GraveSolitude's ReaverOrbitDemiseTorchlight, Bond of StormsMalificent BagThirsty Iron ReaverFaith's ScimitarFinal CriticNirvanaStormfury LongswordThorn, Conqueror of the CorruptedFinal CriticMalice, Legacy of the QueenThunderfury ScimitarRestored BaubleStorm-Weaver, Slayer of InceptionWar-Forged Gold DeflectorThorn, Conqueror of the CorruptedBlazeguard, Reach of EternityThunderfury ScimitarMercenary SabrePutrid FanSoul-Forged Steel ShortswordLifebenderHellreaver, Heirloom of InceptionHeartless Bone DualbladeHope's EndHeartstriker, Legacy of the LightScalpelHatredConqueror Adamantite MaceInterrogator, Blood Blade of the QueenSuspensionExiled DoombladeGhastly Adamantite ProtectorCrying Steel SickleBloodlord's FetishDemiseReaper's TollWolf, Promise of the MoonwalkerThe Void, Vengeance of Dark MagicVengeance CleaverDeadline, Voice Of SubtletyShadowsteelHeartstriker, Legacy of the LightDemiseHellreaver, Heirloom of InceptionToothpickShadow Strike, Glory of Ending HopeSplitter, Foe Of SubtletySoul Infused CrystalPhantomlightCelesteBlood Infused GuardianPiety, Guardian of RiddlesGhost Reaver, Longsword of MagicShadow Strike, Glory of Ending HopeFuryFeral KatanaEternal CleaverEternal CleaverLazarus, Terror of the EarthDarkheartFiery Glass CrusaderMalice, Legacy of the QueenThorn, Satchel of Dark SoulsDevineYearning MagebladeBrimstoneCeleste, Incarnation of the CorruptedGlinting Glass EdgeLazarus, Terror of the EarthSerenityVenom ClaymoreOrbitDemiseThe Void, Vengeance of Dark MagicThe Oculus, Token of Lost WorldsPursuit, Cudgel of NecromancyVerdictMassacreBrimstoneThe Void, Vengeance of Dark MagicLightning, Etcher of the KingRetribution AxeMassacreAlpha, Oath of ZealPrimitive BladeThunderfury ScimitarStrikerPeacekeeper, Wit of Dark MagicShadow Strike, Glory of Ending HopeYearning CrusherRitual MacePossessed CorePursuit, Cudgel of NecromancySplitter, Foe Of SubtletyGlinting Glass EdgeEmberling, Defender of DelusionsFoul EdgeTricksterPeacekeeper, Wit of Dark MagicPhantomlightAetherius, Boon of the BlessedGlinting Glass EdgeWar-Forged Gold DeflectorFusion PummelSinged ScalpelMalificent BagReaper's TollLightning, Etcher of the KingBrimstoneBlood-Forged Skeletal SpineBlindscytheDawnLifebenderExiled DoombladeBrimstoneSuspensionChaos, Ender of the EndFate, Vengeance of Eternal JusticeBetrayal, Whisper of Grieving WidowsBlazeguard, Reach of EternitySpada, Etcher of HatredBrutality Ivory WarmaceNetherbaneReaper's TollEternal CleaverWolfDarkheartFuryBlindscytheBlood-Forged Skeletal SpineFrenzied ScimitarWinter's BiteHopeless Ebon DualbladeFate, Vengeance of Eternal JusticeAbyssal ShardDemiseHope's EndBlindscytheFuryVengeance CleaverBlood Infused GuardianExpiration, Warscythe Of Lost WorldsFinal CriticStormfury LanternApocalyptic BattlescytheExtraction, Quickblade Of Trembling HandsAgathaSerenityDeadline, Voice Of SubtletyWhistling Mithril WarbladeScalpelFate, Vengeance of Eternal JusticeUnholy WandFeral KatanaSleepwalkerTranquility, Razor of Black MagicNetherbaneOrenmirShadowsteelPossessed CoreWolf, Promise of the MoonwalkerExiled DoombladeBlade of the GraveAgathaSoul-Forged Steel ShortswordArcane GemApocalyptic BattlescytheDreamsongFoul EdgeFiery Glass CrusaderLightning, Etcher of the KingBrutality Ivory WarmaceSoul-Forged Steel ShortswordArcane GemTranquility, Razor of Black MagicWarped FetishDeathrazeStormbringer, Dark Blade of Ending MiseryAgathaStorm-Weaver, Slayer of InceptionRetribution AxeHeartless Bone DualbladeUnending TyrannyOrenmirHope's EndCruciferSinged ScalpelVenom ClaymoreRagnarokThirsty Iron ReaverFate, Vengeance of Eternal JusticeSinged ScalpelSun Strike, Jaws of Twisted VisionsBlood Infused GuardianRage, Legacy of the Lone VictorOathbreaker, Last Hope of the Breaking StormBloodlord's FetishWorldbreakerTwilight's CarverStormcallerWarmonger, Gift of Suffering's EndBloodlord's FetishUnending TyrannyTorchlight, Bond of StormsHero CaneFiery Glass CrusaderRusty SkullSinged ScalpelStormfury LongswordHeartless Bone DualbladeWolfLightning, Etcher of the KingWolf, Promise of the MoonwalkerPiety, Guardian of RiddlesExtraction, Quickblade Of Trembling HandsBetrayal, Whisper of Grieving WidowsMourning BladeVengeance CleaverApocalyptic BattlescytheBonecarvin Battle AxeOrenmirWarmonger, Gift of Suffering's EndAmnesiaFrenzied ScimitarMercy, Katana of DismayPhantomlightSwan Song, Gouger Of TerrorAlpha, Oath of ZealHatredExtraction, Quickblade Of Trembling HandsExpiration, Warscythe Of Lost WorldsBlindscytheSeveranceRestored BaubleLightning, Etcher of the KingNirvanaSuspensionHero CaneChaos, Ender of the EndThorn, Satchel of Dark SoulsHeartstriker, Legacy of the LightAbyssal ShardFusion PummelInterrogator, Blood Blade of the QueenHero CaneSouleaterSecond ChanceHeartless Bone DualbladeBlazeguard, Reach of EternityAzurewrathStrikerDownfall, Scalpel Of The EmperorDawnNirvanaSouleaterHopeless Ebon DualbladeExiled Mithril LongswordFaith's ScimitarAvengerPursuit, Cudgel of NecromancyRighteous MightPutrid FanFrenzied ScimitarSouleaterRage, Legacy of the Lone VictorWarped Iron ScimitarWar-Forged Gold DeflectorFinal CriticWorldbreakerPersuasionHeartstriker, Legacy of the LightThorn, Satchel of Dark SoulsDevineAmnesiaMassacrePhantomlightVictor Iron SpikesOathbreaker, Spellblade of TrialsWarped Diamond CrusaderBrutality Ivory WarmaceWarped Iron ScimitarWolfAzurewrathWar-Forged Gold DeflectorVerdictStormfury MaceThorn, Satchel of Dark SoulsFusion PummelPurgatory, Gem of RegretExtraction, Quickblade Of Trembling HandsRetribution AxeVerdictHeartless Bone DualbladeLifebenderRighteous MightHatredWolf, Promise of the MoonwalkerTricksterAvengerTwilight's CarverDeluge, Edge of the WestFrenzy, Defender of the HarvestBone Crushing Silver SkewerFiery Glass CrusaderSoul-Forged Steel ShortswordFuryAetherius, Boon of the BlessedRetribution AxeBlazeguard, Reach of EternityMercenary SabreDawneOathbreaker, Last Hope of the Breaking StormHeartstriker, Legacy of the LightPursuit, Cudgel of NecromancyThe Oculus, Token of Lost WorldsSpectral Diamond DoombladeMalificent BagWar-Forged Gold DeflectorPersuasionSoul Infused CrystalCrying Steel SicklePersuasionSolitude's ReaverShadowsteelBlazeguard, Reach of EternityBlazefury, Protector of DelusionsVindictive Glass EdgeWarped Iron ScimitarStormfury LanternMisery's EndSerenityThirsty Iron ReaverApocalyptic BattlescytheConqueror Adamantite MacePersuasionRetribution AxeOathbreaker, Spellblade of TrialsTwilight's CarverDreamsongPersuasionSecond ChanceOathbreaker, Spellblade of TrialsRelentless Iron SkewerHatredOathbreaker, Spellblade of TrialsConqueror Adamantite MaceWinter's BiteGlimmer, Ender of the MoonSecond ChanceDragon's GreatswordVindictive Glass EdgeDownfall, Scalpel Of The EmperorUnholy WandFate, Vengeance of Eternal JusticeYearning MagebladeChaos, Ender of the EndFaith's ScimitarBrutality Ivory WarmaceOathbreaker, Last Hope of the Breaking StormMalice, Legacy of the QueenSplitter, Foe Of SubtletyScalpelAetherius, Boon of the BlessedAzurewrathDreamsongSinged ScalpelBloodlord's FetishGlimmer, Ender of the MoonThunderfury ScimitarAmnesiaStormfury LanternExtraction, Quickblade Of Trembling HandsThe Oculus, Token of Lost WorldsHeartseeker, Reaver of SoulsApocalyptic BattlescytheAmnesiaYearning MagebladeRenewed Skeletal KatanaRagnarokDeathrazeCeleste, Incarnation of the CorruptedDevinePersuasionBrutality Ivory WarmaceVengeance CleaverPursuit, Cudgel of NecromancyNetherbaneSpectral Diamond DoombladePursuit, Cudgel of NecromancyOathbreaker, Last Hope of the Breaking StormStrikerSinged ScalpelWolfSplinterWinter's BiteAlpha, Reach of Ending HopeRitual MaceNirvanaVictor Iron SpikesSecond ChanceGlinting Glass EdgeAgathaDarkheartUnending TyrannyAlphaPiety, Guardian of RiddlesBlood Infused GuardianMisery's EndOrenmirExtraction, Quickblade Of Trembling HandsMercenary SabreBlood-Forged Skeletal SpineFlux, Destroyer of Due DiligenceWarped Diamond CrusaderFiery Glass CrusaderInterrogator, Blood Blade of the QueenRetribution AxeHellreaver, Heirloom of InceptionGlimmer, Ender of the MoonChaos, Ender of the EndHaunted Bronzed BludgeonStorm-Weaver, Slayer of InceptionWorldbreakerGlimmer, Ender of the MoonEmberling, Defender of DelusionsExiled DoombladeMisery's EndDeluge, Edge of the WestCruciferFreak's Bite, Favor of Holy MightAlphaBetrayerSleepwalkerDawneAzurewrathSinged Onyx WarscytheDragon's GreatswordOathbreaker, Last Hope of the Breaking StormThe Void, Vengeance of Dark MagicCeleste, Incarnation of the CorruptedBrutality Ivory WarmaceExpiration, Warscythe Of Lost WorldsMourning BladeFinal CriticHopeless Ebon DualbladeSinged ScalpelPurgatory, Gem of RegretCrying Steel SickleWinterthorn, Defender of Shifting WorldsNetherbaneDarkheart, Butcher of the ChampionOathbreaker, Spellblade of TrialsSoul-Forged Steel ShortswordFinal CriticWinterthorn, Defender of Shifting WorldsBlood Infused GuardianWinter's BiteSouleaterGladiator's GlaiveApocalyptic BattlescytheYearning CrusherOathbreaker, Last Hope of the Breaking StormDawneSwan Song, Gouger Of TerrorVictor Iron SpikesBone Crushing Silver SkewerEternal CleaverFreak's Bite, Favor of Holy MightTranquility, Razor of Black MagicMassacreRagnarokHeartseeker, Reaver of SoulsFiery Glass CrusaderPutrid FanSuspensionMourning BladeShadow Strike, Glory of Ending HopeOathbreaker, Spellblade of TrialsWarped Iron ScimitarVindictive Glass EdgeVengeance CleaverMalice, Legacy of the QueenStormcallerWorldbreakerOathbreaker, Last Hope of the Breaking StormAlpha, Oath of ZealHaunted Bronzed BludgeonRitual MaceDespair, Favor of Due DiligenceToothpickWinter's BiteBonecarvin Battle AxeLazarus, Terror of the EarthSuspensionMalificent BagSolitude's ReaverAlphaFreak's Bite, Favor of Holy MightFinal CriticFinal CriticFiery Glass CrusaderDawneHero CaneGhastly Adamantite ProtectorPursuit, Cudgel of NecromancyFinal CriticWolfExiled DoombladeCeleste, Incarnation of the CorruptedFinal CriticDawn\n"
     ]
    }
   ],
   "source": [
    "# Print Total Items\n",
    "total_items = df['Item Name'].sum()\n",
    "print(\"Number of Unique Items: \", total_items)"
   ]
  },
  {
   "cell_type": "code",
   "execution_count": 22,
   "metadata": {},
   "outputs": [
    {
     "name": "stdout",
     "output_type": "stream",
     "text": [
      "Average Price of Purchase:  3.050987179487176\n"
     ]
    }
   ],
   "source": [
    "# Print Average Price\n",
    "average = df.loc[:,\"Price\"].mean()\n",
    "print(\"Average Price of Purchase: \", average)"
   ]
  },
  {
   "cell_type": "code",
   "execution_count": 17,
   "metadata": {
    "scrolled": true
   },
   "outputs": [
    {
     "name": "stdout",
     "output_type": "stream",
     "text": [
      "Total Players:  780\n"
     ]
    }
   ],
   "source": [
    "# Display the Total Number of Players\n",
    "total_players = df['Price'].count()\n",
    "print(\"Total Players: \", total_players)"
   ]
  },
  {
   "cell_type": "code",
   "execution_count": 16,
   "metadata": {},
   "outputs": [
    {
     "name": "stdout",
     "output_type": "stream",
     "text": [
      "Total Number of Purchases:  780\n"
     ]
    }
   ],
   "source": [
    "# Print(\"Number of Purchases\")\n",
    "Item = df[\"Purchase ID\"].count()\n",
    "print(\"Total Number of Purchases: \", Item)"
   ]
  },
  {
   "cell_type": "code",
   "execution_count": 15,
   "metadata": {},
   "outputs": [
    {
     "name": "stdout",
     "output_type": "stream",
     "text": [
      "Total Number of Purchases:  780\n"
     ]
    }
   ],
   "source": [
    "revenue = "
   ]
  },
  {
   "cell_type": "code",
   "execution_count": 23,
   "metadata": {},
   "outputs": [],
   "source": [
    "# Create Number of Unique Items, Average Price, Number of Purchases, Total Revenue \n",
    "df2 = df.loc[:, [\"Item Name\"]].head()"
   ]
  },
  {
   "cell_type": "code",
   "execution_count": 39,
   "metadata": {},
   "outputs": [
    {
     "data": {
      "text/plain": [
       "<bound method DataFrame.sum of                                    Item Name\n",
       "0  Extraction, Quickblade Of Trembling Hands\n",
       "1                          Frenzied Scimitar\n",
       "2                               Final Critic\n",
       "3                                Blindscythe\n",
       "4                                       Fury>"
      ]
     },
     "execution_count": 39,
     "metadata": {},
     "output_type": "execute_result"
    }
   ],
   "source": [
    "df2.sum"
   ]
  },
  {
   "cell_type": "code",
   "execution_count": null,
   "metadata": {},
   "outputs": [],
   "source": []
  },
  {
   "cell_type": "code",
   "execution_count": 37,
   "metadata": {},
   "outputs": [
    {
     "name": "stdout",
     "output_type": "stream",
     "text": [
      "_ _ _ _ _ _ _ _ _ _ _ _ _ _ _\n",
      " \n",
      "Player Count\n",
      "  Total Players:  780\n",
      "_ _ _ _ _ _ _ _ _ _ _ _ _ _ _\n",
      " \n",
      "Purchasing Analysis\n",
      "  Average Price of Purchase:  3.050987179487176\n",
      "  Total Number of Purchases:  780\n"
     ]
    }
   ],
   "source": [
    "# FINAL PRINT OUT\n",
    "print(\"_ _ _ _ _ _ _ _ _ _ _ _ _ _ _\")\n",
    "print(\" \")\n",
    "print(\"Player Count\")\n",
    "print(\"  Total Players: \", total_players)\n",
    "print(\"_ _ _ _ _ _ _ _ _ _ _ _ _ _ _\")\n",
    "print(\" \")\n",
    "print(\"Purchasing Analysis\")\n",
    "#print(\"  Total Number of Items: \" )\n",
    "print(\"  Average Price of Purchase: \", average)\n",
    "print(\"  Total Number of Purchases: \", Item)"
   ]
  }
 ],
 "metadata": {
  "kernelspec": {
   "display_name": "Python 3",
   "language": "python",
   "name": "python3"
  },
  "language_info": {
   "codemirror_mode": {
    "name": "ipython",
    "version": 3
   },
   "file_extension": ".py",
   "mimetype": "text/x-python",
   "name": "python",
   "nbconvert_exporter": "python",
   "pygments_lexer": "ipython3",
   "version": "3.7.3"
  }
 },
 "nbformat": 4,
 "nbformat_minor": 2
}
